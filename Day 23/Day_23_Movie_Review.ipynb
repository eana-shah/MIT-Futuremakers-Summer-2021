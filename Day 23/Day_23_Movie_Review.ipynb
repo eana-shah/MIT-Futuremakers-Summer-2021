{
  "nbformat": 4,
  "nbformat_minor": 0,
  "metadata": {
    "colab": {
      "name": "Day_23_Movie_Review.ipynb",
      "provenance": [],
      "collapsed_sections": []
    },
    "kernelspec": {
      "name": "python3",
      "display_name": "Python 3"
    },
    "language_info": {
      "name": "python"
    },
    "accelerator": "GPU"
  },
  "cells": [
    {
      "cell_type": "code",
      "metadata": {
        "id": "6o4O7AoqfwWT"
      },
      "source": [
        "# importing libraries\n",
        "\n",
        "import matplotlib.pyplot as plt\n",
        "import os\n",
        "import re\n",
        "import shutil\n",
        "import string\n",
        "import tensorflow as tf\n",
        "from tensorflow.keras import layers\n",
        "from tensorflow.keras import losses\n",
        "from tensorflow.keras import preprocessing\n",
        "from tensorflow.keras.layers.experimental.preprocessing import TextVectorization"
      ],
      "execution_count": 2,
      "outputs": []
    },
    {
      "cell_type": "code",
      "metadata": {
        "colab": {
          "base_uri": "https://localhost:8080/"
        },
        "id": "EKoxAKkDgfBb",
        "outputId": "6f800d3e-a7bc-4725-dd7f-e0a3b1843204"
      },
      "source": [
        "# download the movie review dataset and store it in Keras's cache memory\n",
        "url = \"https://ai.stanford.edu/~amaas/data/sentiment/aclImdb_v1.tar.gz\"\n",
        "dataset = tf.keras.utils.get_file(\"aclImdb_v1\", url,\n",
        "                                    untar=True, cache_dir='.',\n",
        "                                    cache_subdir='')\n",
        "print(dataset)"
      ],
      "execution_count": 6,
      "outputs": [
        {
          "output_type": "stream",
          "text": [
            "Downloading data from https://ai.stanford.edu/~amaas/data/sentiment/aclImdb_v1.tar.gz\n",
            "84131840/84125825 [==============================] - 1s 0us/step\n",
            "./aclImdb_v1\n"
          ],
          "name": "stdout"
        }
      ]
    },
    {
      "cell_type": "code",
      "metadata": {
        "colab": {
          "base_uri": "https://localhost:8080/"
        },
        "id": "ag7SVlyfiB_e",
        "outputId": "d787adcd-a6bd-4813-db9b-5e0c544a8469"
      },
      "source": [
        "dataset_dir = os.path.join(os.path.dirname(dataset), 'aclImdb')\n",
        "print(dataset_dir)"
      ],
      "execution_count": 8,
      "outputs": [
        {
          "output_type": "stream",
          "text": [
            "./aclImdb\n"
          ],
          "name": "stdout"
        }
      ]
    },
    {
      "cell_type": "code",
      "metadata": {
        "colab": {
          "base_uri": "https://localhost:8080/"
        },
        "id": "ZPi65rfziXAI",
        "outputId": "d7156ca0-9f04-48b8-d3e4-1c8cd147bff4"
      },
      "source": [
        "# print the contents of the directory \"aclImdb\" directory\n",
        "# dir stands for directory\n",
        "os.listdir(dataset_dir)"
      ],
      "execution_count": 9,
      "outputs": [
        {
          "output_type": "execute_result",
          "data": {
            "text/plain": [
              "['imdb.vocab', 'imdbEr.txt', 'train', 'test', 'README']"
            ]
          },
          "metadata": {
            "tags": []
          },
          "execution_count": 9
        }
      ]
    },
    {
      "cell_type": "code",
      "metadata": {
        "colab": {
          "base_uri": "https://localhost:8080/"
        },
        "id": "93bhQZlHi1S0",
        "outputId": "ef8567bc-0c65-4015-a796-cb4a60707d30"
      },
      "source": [
        "# print the contents of the \"train\" directory\n",
        "train_dir = os.path.join(dataset_dir, 'train')\n",
        "os.listdir(train_dir)"
      ],
      "execution_count": 10,
      "outputs": [
        {
          "output_type": "execute_result",
          "data": {
            "text/plain": [
              "['unsupBow.feat',\n",
              " 'urls_pos.txt',\n",
              " 'neg',\n",
              " 'labeledBow.feat',\n",
              " 'urls_unsup.txt',\n",
              " 'urls_neg.txt',\n",
              " 'pos',\n",
              " 'unsup']"
            ]
          },
          "metadata": {
            "tags": []
          },
          "execution_count": 10
        }
      ]
    },
    {
      "cell_type": "code",
      "metadata": {
        "colab": {
          "base_uri": "https://localhost:8080/"
        },
        "id": "En5KYtWgjXKw",
        "outputId": "15eb78aa-aec9-4a49-a397-3613e6dd41fb"
      },
      "source": [
        "# randomly select a file inside \"pos\" directory and print its content\n",
        "sample_file = os.path.join(train_dir, 'pos/1181_9.txt')\n",
        "with open(sample_file) as f:\n",
        "  print(f.read())"
      ],
      "execution_count": 12,
      "outputs": [
        {
          "output_type": "stream",
          "text": [
            "Rachel Griffiths writes and directs this award winning short film. A heartwarming story about coping with grief and cherishing the memory of those we've loved and lost. Although, only 15 minutes long, Griffiths manages to capture so much emotion and truth onto film in the short space of time. Bud Tingwell gives a touching performance as Will, a widower struggling to cope with his wife's death. Will is confronted by the harsh reality of loneliness and helplessness as he proceeds to take care of Ruth's pet cow, Tulip. The film displays the grief and responsibility one feels for those they have loved and lost. Good cinematography, great direction, and superbly acted. It will bring tears to all those who have lost a loved one, and survived.\n"
          ],
          "name": "stdout"
        }
      ]
    },
    {
      "cell_type": "code",
      "metadata": {
        "id": "xuaweiuUkDtF"
      },
      "source": [
        "# \"text_dataset_from_directory\" keras function - allows us to extract text data from a dataset \n",
        "\"\"\"\n",
        "main_directory/\n",
        "...class_a/\n",
        "......a_text_1.txt\n",
        "......a_text_2.txt\n",
        "...class_b/\n",
        "......b_text_1.txt\n",
        "......b_text_2.txt\n",
        "\"\"\"\n",
        "\n",
        "# remove the \"unsup\" (unsupervised learning) directory tree (itself and its subdirectories)\n",
        "remove_dir = os.path.join(train_dir, 'unsup')\n",
        "shutil.rmtree(remove_dir)"
      ],
      "execution_count": 15,
      "outputs": []
    },
    {
      "cell_type": "code",
      "metadata": {
        "colab": {
          "base_uri": "https://localhost:8080/"
        },
        "id": "PwEz2rvMlH6O",
        "outputId": "ad06f3f2-d6ea-40b0-fe82-5d187e7dcc26"
      },
      "source": [
        "# create a dataset object\n",
        "\n",
        "batch_size = 32\n",
        "seed = 42\n",
        "\n",
        "# copy 80% of training samples to \"raw_train_ds\"\n",
        "raw_train_ds = tf.keras.preprocessing.text_dataset_from_directory(\n",
        "    'aclImdb/train', \n",
        "    batch_size=batch_size, \n",
        "    validation_split=0.2, \n",
        "    subset='training', \n",
        "    seed=seed)\n",
        "print(len(raw_train_ds))"
      ],
      "execution_count": 16,
      "outputs": [
        {
          "output_type": "stream",
          "text": [
            "Found 25000 files belonging to 2 classes.\n",
            "Using 20000 files for training.\n",
            "625\n"
          ],
          "name": "stdout"
        }
      ]
    },
    {
      "cell_type": "code",
      "metadata": {
        "colab": {
          "base_uri": "https://localhost:8080/"
        },
        "id": "M_xBgqSbmbtI",
        "outputId": "91a599ef-3560-4cae-c1a8-e58455b49fdc"
      },
      "source": [
        "# take the first batch out of the 625 batches \n",
        "# print all 32 examples in that batch\n",
        "for text_batch, label_batch in raw_train_ds.take(1):\n",
        "  for i in range(32):\n",
        "    print(\"Review\", text_batch.numpy()[i])\n",
        "    print(\"Label\", label_batch.numpy()[i])"
      ],
      "execution_count": 20,
      "outputs": [
        {
          "output_type": "stream",
          "text": [
            "Review b'Silent Night, Deadly Night 5 is the very last of the series, and like part 4, it\\'s unrelated to the first three except by title and the fact that it\\'s a Christmas-themed horror flick.<br /><br />Except to the oblivious, there\\'s some obvious things going on here...Mickey Rooney plays a toymaker named Joe Petto and his creepy son\\'s name is Pino. Ring a bell, anyone? Now, a little boy named Derek heard a knock at the door one evening, and opened it to find a present on the doorstep for him. Even though it said \"don\\'t open till Christmas\", he begins to open it anyway but is stopped by his dad, who scolds him and sends him to bed, and opens the gift himself. Inside is a little red ball that sprouts Santa arms and a head, and proceeds to kill dad. Oops, maybe he should have left well-enough alone. Of course Derek is then traumatized by the incident since he watched it from the stairs, but he doesn\\'t grow up to be some killer Santa, he just stops talking.<br /><br />There\\'s a mysterious stranger lurking around, who seems very interested in the toys that Joe Petto makes. We even see him buying a bunch when Derek\\'s mom takes him to the store to find a gift for him to bring him out of his trauma. And what exactly is this guy doing? Well, we\\'re not sure but he does seem to be taking these toys apart to see what makes them tick. He does keep his landlord from evicting him by promising him to pay him in cash the next day and presents him with a \"Larry the Larvae\" toy for his kid, but of course \"Larry\" is not a good toy and gets out of the box in the car and of course, well, things aren\\'t pretty.<br /><br />Anyway, eventually what\\'s going on with Joe Petto and Pino is of course revealed, and as with the old story, Pino is not a \"real boy\". Pino is probably even more agitated and naughty because he suffers from \"Kenitalia\" (a smooth plastic crotch) so that could account for his evil ways. And the identity of the lurking stranger is revealed too, and there\\'s even kind of a happy ending of sorts. Whee.<br /><br />A step up from part 4, but not much of one. Again, Brian Yuzna is involved, and Screaming Mad George, so some decent special effects, but not enough to make this great. A few leftovers from part 4 are hanging around too, like Clint Howard and Neith Hunter, but that doesn\\'t really make any difference. Anyway, I now have seeing the whole series out of my system. Now if I could get some of it out of my brain. 4 out of 5.'\n",
            "Label 0\n",
            "Review b\"This Italian film from the '70's is NOT even in the class with Dog Soldiers, The Howling, or even that awful American Werewolf in Paris, BUT...it is fun to watch. I'm talking about watching the lead actress, a stunning blonde, run amok in her birthday suit. We're talking about graphic, complete nudity...it's obvious that she is a real blonde...humma humma humma!! The story is a hoot, the SFX are childish, and the acting (for the most part) stinks. The only redeeming value of this movie is all (and there is a LOT) the nudity & sex scenes. Tame by HBO standards, but still fun to see when you find yourself without a date on Saturday night. OK...HERE'S THE SPOILER...There is NO werewolf (except in the opening scene of the heroine(??)'s ancestor. The girl just imagines that she's a werewolf...in other words, a clinical Lycanthrope.\"\n",
            "Label 0\n",
            "Review b'Mr Perlman gives a standout performance (as usual). Sadly, he has to struggle with an underwritten script and some nonsensical set pieces.<br /><br />Larsen is in \"Die Hard\" mode complete with singlet and bulging muscles, I\\'m sure he could do better but seems satisfied to grimace and snarl through his part.<br /><br />The lovely Erika is very decorative (even though fully clothed!) and shows some signs of \"getting\" acting at last.<br /><br />SFX are mainly poor CGI and steals from other movies.<br /><br />The shootouts are pitiful - worthy of the A-Team<br /><br />Not even worth seeing for Perlman - AVOID'\n",
            "Label 0\n",
            "Review b\"I'm a Christian who generally believes in the theology taught in Left Behind. That being said, I think Left Behind is one of the worst films I've seen in some time.<br /><br />To have a good movie, you need to have a well-written screenplay. Left Behind fell woefully short on this. For one thing, it radically deviates from the book. Sometimes this is done to condense a 400-page novel down to a two-hour film, but in this film I saw changes that made no sense whatsoever.<br /><br />Another thing, there is zero character development. When characters in the story get saved (I won't say who), the book makes it clear that it's a long, soul-searching process. In the film it's quick and artificial. The book is written decently enough where people like Rayford Steele, Buck Williams and Hattie Durham seem real, but in the movie scenarios are consistently given the quick treatment without anything substantial. In another scene where one character gets angry about being left behind (again, I won't say who), it seems artificial.<br /><br />I realize as a Christian it's unedifying for me to say I disliked this film, but I can't in a good conscience recommend a film that I feel was horribly done. Perhaps it would've been better to make the first book into 2-3 films. Either way, Christians need to realize that to be taken seriously as filmmakers, we need to start by putting together a film in a quality way. I realize a lot of effort probably went into Left Behind, but that's the way I see it.\"\n",
            "Label 0\n",
            "Review b'The Forest isn\\'t just your everyday standard slasher/backwoods cannibal fare, it also has an interesting mix of supernatural elements as well. The story is about two couples that hike into the forest on a camping trip. A cave dwelling, cannibalistic woodsmen and the ghosts of his dead wife and two children soon terrorize them. There is something you don\\'t see every slasher. Director Don Jones gets an \"A\" for effort although the film itself falls flat on just about every level, the acting is just simply average except for Jeanette Kelly who plays the dead wife of the woodsman (Michael Brody aka Gary Kent).<br /><br />The film opens with some beautiful shots of a couple hiking through a valley and into a forest. They realize too late that someone is stalking them. They are both dispatched in typical slasher fare. Our killer uses a trusty hunting knife throughout the entire film, except during a flashback when he implements a handsaw, pitchfork and rusty saw blade to dispatch his cheating wife\\'s lover.<br /><br />The Forest has a good story line but the movie just doesn\\'t work along with it I found it pretty boring with simply crappy acting. 4/10'\n",
            "Label 0\n",
            "Review b'Well, if you like pop/punk, punk, ska, and a tad bit of modern psycho billy, then seeing the live performances are about the only thing worth watching. This movie has tons and tons of band cameos, along with president of Troma, Lloyd Kaufman as a semi-major role, and lots of goofy death scenes. Sounds like it may be good, right? Well, the deaths keep coming, and repeatedly to many different bands of the Warp Tour and the fans at the event. Some of the deaths start of stylish, but then they are recycled over and over, to the point of being completely repetitive. Almost everyone dies of having their head smashed, or intestines being pulled from their stomach. The gore looks as if it was from Andreas Schnaas\\' \"Zombie 90: Extreme Pestilence\"; with this being the \"watered-down type blood\", but now that movie is actually decent, and provides humor-something that this movie terribly lacks. Sure, the movie is made by Doug Sakmann from Troma, it\\'s got great low-budget potential, and it tries...but just too hard. Everything is overly meant to be funny in this movie, and thats what brings it down. Everything tries to be too comic and goofy, by using intentional bad acting, an overuse of pointless deaths, and doing the same thing...over and over. It\\'s basically \"Mulva: Zombie Ass-Kicker\", \"Chairman of the Board\", or any movie you have made with your friends: it\\'s funny to those who made it, and that\\'s about it.<br /><br />Great potential, great idea, great use of effects-but it\\'s the same thing...over and over: A band plays, a band dies, fans die. Everyone dies, blood is sprayed everywhere, the process is repeated.<br /><br />The question is for these types of movies-which is basically \\'bad slap-stick\\'-do they try too hard, or not at all?'\n",
            "Label 0\n",
            "Review b\"I LOVE the Doodlebops. My son has been watching them for over a year. We went to the Doodlebops concert last year as well as one concert yesterday (connecticut). He LOVES them. The doodlebops do not teach the alphabet or numbers but who cares? are you being serious? the TV isn't suppose to teach your children about numbers or the alphabet. the parents should. Get over it. The Doodlebops actually CAN sing. Deedee has a beautiful voice and in concert you can tell all 3 of them have nice singing voices and do NOT lip sing. Imagine, they dance, jump around and STILL sing. they have talent, the kids love them i even enjoy watching the show. This show is by far the best show on TV for kids. AND a rock band for children. How amazing is that? Why are people saying Chad (rooney) is gay? where did you hear that from? Whether he is or not, He is awesome! Leave him alone. Its not like he or anyone else is promoting homosexuality to our children!\"\n",
            "Label 1\n",
            "Review b\"I'm a huge Steven Seagal fan. Hell, I probably weigh as much as he does although I don't have the street cred to sport the frizzy-mullet-ponytail. Having stated my own bias and affection for America's favorite corpulent stage and screen hero, it is with a heavy heart that I must declare this to be his worst movie ever. I'm not sure he could make a movie any worse than this.<br /><br />In his defense the major problems with this film seem to occur in post-production. It's painfully obvious that this movie was supposed to have a different storyline. That results in woeful voiceovers in which Steve's voice doesn't nearly sync up with that of the dubbed voice. The editing is pisspoor and overall this starts bad, gets even worse, and by the end you'll wish you had rewatched The Da Vinci Code instead. Yes, it's that bad.<br /><br />After this I don't know what to expect from Steve. My friends still laugh at me for listening to his CDs. Is it time I start checking out some of the Van Damme direct to DVD nutty logs? If you are tempted to watch this movie, rip your eyeballs out and flush them down the toilet. A lifetime of darkness is better than 89 minutes of this.\"\n",
            "Label 0\n",
            "Review b'Although recognized as the best film treatment of the difficulties of having a house in the country built (or bought) to your specifications, it is not the first, nor the last. In 1940 Jack Benny and Ann Sheridan were the leads in the film version of the comedy GEORGE WASHINGTON SLEPT HERE by George S. Kaufman and Moss Hart. And about fifteen years ago Shelly Long and Tom Hanks had the lead in THE MONEY PIT. The former was about moving into an 18th Century country house that...err, needs work. The latter was about building your dream house - in the late 1980s. Although the two films have their moments, both are not as good as BLANDINGS, which was based on an autobiographical novel of the same name.<br /><br />Jim Blandings and his wife Muriel (Cary Grant and Myrna Loy) are noticing the tight corners of their apartment, which they share with their two daughters Joan and Betsy (Sharyn Moffett and Connie Marshall). Although Blandings has a good income as an advertising executive (in 1948 he is making $15,000.00 a year, which was like making $90,000.00 today), and lives in a luxury apartment - which in the New York City of that day he rents! - he feels they should seek something better. He and Muriel take a drive into the country (Connecticut) and soon find an old ruin that both imagine can be fixed up as that dream house they want.<br /><br />And they both fall into the financial worm hole that buying land and construction can lead to. For one thing, they are so gung ho about the idea of building a home like this they fail to heed warning after warning by their wise, if cynical friend and lawyer Bill Cole (Melvin Douglas, in a nicely sardonic role). For example, Jim buys land from a Connecticut dealer (Ian Wolfe, sucking his chops quietly), with a check before double checking the correct cost for the land in that part of Connecticut. Bill points out he\\'s paid about five or six thousand dollars more for the land than it is worth. There are problems about water supply that both Blandings just never think about, such as hard and soft water - which leads to the Zis - Zis Water softening machine. They find that the designs they have in mind, and have worked out with their architect (Reginald Denny), can\\'t be dropped cheaply at a spur of the moment decision by Muriel to build a little rookery that nobody planned for. <br /><br />The escalating costs of the project are one matter that bedevils Jim. He has been appointed to handle the \"Wham\" account (\"Spam\" had become a popular result of World War II, in that the public started using it as a meat substitute, in the light of it\\'s success with the armed forces). Jim can\\'t get a grip on this (he\\'s not alone - one or two other executives fumbled it before him). He comes up with the following bit of \"poetry\"(?):<br /><br />\"This little piggy went to market,<br /><br />He was pink and as pretty as ham.<br /><br />He smiled in his tracks,<br /><br />As they gave him the ax -<br /><br />He knew he would end up as \"Wham\"!\"<br /><br />His Secretary looks at him as though he needs a straight jacket when he reads that one!<br /><br />Jim also is increasingly suspicious of the attentions of Bill to Muriel, although (in this case) Bill is blameless. But he\\'s always around (Jim keeps forgetting that Bill is the clearheaded one, and that he\\'s keeping Jim and Muriel from making so many mistakes). All three have mishaps, the best being when they get locked in a room in the half constructed house, just as the men have left for the day. They can\\'t open the door, and Jim (in a panic) tries breaking the door down by a make-shift battering ram. He breaks a window, and the door opens by itself.<br /><br />The film works quite satisfactorily, with all of the actors apparently enjoying themselves. It is one film which (despite changing price levels and salary levels) really does not age at all. After all, most Americans dream of owning their own home and always have.<br /><br />A number of years ago a paint company made use of a delightful scene with Myrna Loy and Emory Parnell regarding the paint job Parnell\\'s company has to do on the various rooms. She carefully shows the distinct shades of red, blue, etc. she wants - even giving a polite Parnell a single thread for the right shade of blue. The commercials hinted that the paint company had a wide variety of colors to choose from for your paint job. They proudly called Loy \"Mrs. Blandings\" in the commercials\\' introduction. You can imagine though how the no-nonsense Parnell handles the situation afterward, when Loy leaves him with his paint crew.'\n",
            "Label 1\n",
            "Review b\"Considering John Doe apparently inspired Kyle XY's creator I was expecting its pilot to be quite interesting. However I probably had too high expectations because I was quite disappointed by it. First they turned the protagonist into a freak who had the crazy idea of showing off his amazing knowledge in front of an audience, in a public area. So after that scene I began to worry that it was just entertainment. But the problem is that it got worse as none of the other characters were properly introduced. They focused too much on John Doe which made the story far less intriguing. I was also slightly disappointed by Dominic Purcell's performance because I found he didn't make a believable John Doe. An other problem was the police story. It really felt like d\\xc3\\xa9j\\xc3\\xa0 vu and it wasn't a pleasant sensation. It leads us to the worst issue in the bunch, the episodic format. I could already see the fillers coming one after an other.<br /><br />So overall I was very disappointed by it and don't recommend it to anyone. Considering how bad it was I better understand now why the show got canceled. In some way I have the impression that it missed its target, developing characters to help the protagonist find his own identity. It's sad because there was potential, like the people he met at the club. The production quality was also quite good and the casting correct. But I'll never know if it got better, probably not, because I don't plan to watch the next episode.\"\n",
            "Label 0\n",
            "Review b'The movie \"Atlantis: The Lost Empire\" is a shining gem in the rubble of films produced by the Disney Studios recently. Parents who have had to sit through \"The Jungle Book 2\" or even a Pokemon movie will surely appreciate this one.<br /><br />The film is one of few to attempt at an original story; previous feature films were merely re tellings of existing stories. Films such as \"Toy Story\", \"Finding Nemo\", and \"Monsters Inc.\" all do the same, but it must be noted that all were made by Pixar and only distributed by Disney. Recent films from the Disney Studios are mostly released direct to video, and are sequels to an existing successful film. The quality of those films is given way to the profitability. A new era started with \"Atlantis\" following it were \"Mulan\", \"Lilo & Stitch\", and most recently \"Open Range\". The writers have created all original story lines instead of the fairy tales of the past.<br /><br />A good portion of the movie is devoted to the quest to find Atlantis, a task that has captured the imagination of many for hundreds of years. Including that of young Milo Thatch, voiced by Michael J. Fox. Milo is employed by a museum in Washington D.C.. His grandfather was a renowned archaeologist, who had devoted his life to discovering Atlantis. This was seen as a waste by his peers, and they wish Milo to not follow in his footsteps. After failing to convince the museum board of directors to sponsor his expedition, Milo comes home to find a woman in his darkened apartment. She takes him to her employer, a Mr. Whitmore. Whitmore was a close friend of Milo\\'s grandfather, and wishes to send Milo with a team to locate Atlantis. Mr. Whitmore is very wealth and has paid for the best of everything. The crew that is to accompany him is the same as his grandfathers. The journey is filled with many great obstacles to overcome and is great fun to watch. The viewer finds themselves caught up in if they will reach Atlantis. The plot takes an unexpected turn after the discovery Atlantis, not just the discovery of people. It is enough to keep the interest of the older audience.<br /><br />The animators have done a wonderful job in then depth of the animation. The movie is very successful in blending traditional animation with Computer Generated Images. A feat not easily achieved, most audiences are quick to notice the difference in the two. The characters are believably human. There are some nice chase type scenes, with lots of action going on. A few lulls are filled with jokes that the children just may not get.<br /><br />The creativity of the writers really shines through. The culture of Atlantis is richly developed, including an entire language. The film uses references to Atlantis from historical sources, such as Plato. The disappearance of Atlantis from the world is explained. Believable, if by a younger audience, that magic really does exist. The powers of the people of Atlantis are not exactly presented as magic, but can best be described in this way.<br /><br />Although set in 1914 the level of technology used is unrealistic. The voyage is in a submarine very reminiscent of Captain Nemo\\'s nautilus, complete with sub pods that fire torpedoes. The giant diggers are driven by steam boilers so they did try for some era technology. The female characters are empowered in a way that women of the age would not have been, even holding roles in leadership. This is not a bad thing. It gives a good role model for my daughter to look to, rather than an all male cast.<br /><br />One reason this film is a favorite of mine over other Disney films is that there is not one single song, ever. A tradition that began with the first feature film, \"Snow White\", and carried on through to \"The Lion King\", almost every Disney film is full of upbeat songs. This is great and all, what would the Seven Dwarfs be without \"Hi HO!\"? After the millionth time through it\\'d almost be better without, but this one spares the parent. Not once does every single person on the screen suddenly know the words to a song that no one has ever heard before and break out in song. I for one am grateful.<br /><br />The storyline and depth of animation is sure to keep the attention of both parent and child alike. It is a film I am willing to watch again and again with my children.'\n",
            "Label 1\n",
            "Review b\"Someone must have been seriously joking when they made this film.<br /><br />Firstly, it is an absolute impossibility that this movie was made in 1993. The fashions and music dictate that this is seriously 80's. My guess is that this has sat on the shelf for a long while before some crazed distributer picked it up and released it to a disbelieving world.<br /><br />There is a plot. Kind of. A strange loner meets a random man with a beard who tells him that if he meditates while singing his favourite song he will be able to turn into whomever he chooses. At this point I feel obliged to point out that the loner's favourite song is London Bridge Is Falling Down. Why is this his favourite song? Because he's an idiot. We are only a minute into the film and already the film has reached a monumental level of stupidity. It gets even stupider.<br /><br />The loner is the nostril picker. I can only assume this as there are two scenes in the film where he is seen picking his nose. That clears up the title. He decides to change into a girl so that he can get close to other girls. And kill them. That's more or less it.<br /><br />The acting is universally appalling. Every single performance in this movie sucks. In fact, I would go so far as to say that the acting is of the standard of a pornographic movie. It really is that terrible. The nostril picker appears to the audience as the nostril picker. The characters in the movie see him as the girl he has become through singing London Bridge Is Falling Down. Man, I feel like an idiot even typing this. Anyway, it is kind of strange seeing a middle aged weirdo hanging out with school girls. And not in a good way. There is even an extended montage of scenes where the nostril picker is at school with the girls and a song plays over the top. It is very possibly the worst song ever recorded. I'm not even going to describe it. You'll know it when you hear it. And you'll agree with me.<br /><br />There are some scenes of violence, sure. And there is a Benny Hill style chase sequence involving a transsexual. There is even an immortal bit of dialogue, that may or may not have been taken from Shakespeare or John Milton, where the nostril picker says to a prostitute, 'I've got the cash if you've got the gash'. Lovely, I'm sure you'll agree.<br /><br />Utter nonsense.\"\n",
            "Label 0\n",
            "Review b'I love horror movies that brings out a real amount of mystery like say \"silent hill\" ( which i found to be quite good, but still, was missing something ) and movies that keeps you guessing, this i thought was one of those movies. At first the movie starts out with some really good suspense and builds up a good starting point for a good horror scene, but after that it just rolls down the hill and from there it only goes faster and faster down. I mentioned silent hill at first for a reason because i can see a lot of \"stolen\" themes from that movie in here.. All in all i would say, watch silent hill instead of this one, its better, its more scary, it has a lot more suspense and also the ending is a lot better.. And best of all, you wont feel ripped off as i did with this one.. This just seems to be one of those \"i like that movie so I\\'m gonna re-make it in my own really bad version\" kinda movie.. Oh and one more thing... Lordi.. in a horror movie... thats like trying to scare a kid with a care bear who has \"hug me and i will love you forever\" written on the stomach of it..'\n",
            "Label 0\n",
            "Review b'This British film is truly awful, and it\\'s hard to believe that Glenn Ford is in it, although he pretty much sleepwalks through it. The idea of a bomb on a train sounds good...but it turns out this train ends up parked for the majority of the film! No action, no movement, just a static train. The area where the train is parked is evacuated, so it\\'s not like there\\'s any danger to anyone either. In fact, this film could be used in a film class to show how NOT to make a suspense film. True suspense is generated by letting the audience know things that the characters don\\'t, a fact apparently unknown to the director. SPOILER: the train actually has two bombs on it, but we are led to believe there is only one. After the first bomb is defused, it feels as if there is no longer a reason to watch the film any more. But at the last minute, the villain, who has no apparent motivation for his actions, reveals there are two. Nor are we certain WHEN the bombs will go off, so we don\\'t even have a classic \"ticking bomb\" tension sequence. A good 10 minutes or more are spent watching Glenn Ford\\'s French wife thinking about leaving him, and then wondering where he is . She\\'s such an annoying character that we don\\'t care whether she reconciles with him, so when she does, there\\'s nothing emotional about it. Most of the other characters are fairly devoid of personality, and none have any problems or issues. It\\'s only 72 minutes, but it feels long because it\\'s tedious and dull. Don\\'t waste your time.'\n",
            "Label 0\n",
            "Review b\"When the Chamberlain family is camping near Ayers Rock, Australia, Lindy Chamberlain (Meryl Streep) sees her baby being dragged out of their tent by a dingo and then begins an ordeal that no one should have to experience. For it seems like the dingo story is not believed by the public or the press, and the whole thing turns into a circus. Lindy doesn't help matters either because she won't play to the jury or courtroom, she's only herself, and she's a tough nut to crack, so of course everyone thinks she's guilty because there's a piece of evidence that hasn't come to light. Sam Neill is excellent as Michael Chamberlain, a Seventh-Day adventist pastor, who has doubts about his faith and perhaps about his wife. It's good (or bad) to see that people are just as prejudiced and stupid elsewhere as they are in the States too, because the Australian public doesn't believe the story and the media only fans the flames. Eventually, Lindy is found guilty and sent to prison for a life of hard labor, but years later, a missing piece of evidence shows up and she's freed, but not until after the family's life is basically ruined. A heart-breaking story, very well done, a bit long but well worth seeing. 8 out of 10.\"\n",
            "Label 1\n",
            "Review b'boring stuff we got here. His 5 minute shorts are better than this. know why? because there only 5 minutes and not 91 minutes or how ever long this is. <br /><br />The plot is kinda... eh.. the last half hour is alright the rest is boring and not funny =( I had my hopes up, the trailer made it look funny but the pace of this movie is pretty slow and sadly not funny. Just plain boring klaymen running into each other and trying to make us laugh.. not working.<br /><br />Maybe next time knox.<br /><br />Maybe re-cutting this movie and adding better scenes would do a lot of healing but for now its just not good.'\n",
            "Label 0\n",
            "Review b\"Dull haunted house thriller finds an American family moving into a 200 year old house in Japan where a violent murder suicide love triangle occurred. <br /><br />Novel setting is about the only element of interest in this very slow moving horror flick by the director of Motel Hell. The film generates zero suspense and is composed of somewhat choppy scenes that rarely seem to be leading anywhere overall. <br /><br />One obvious example is a fairly early scene where the male lead visits a temple after realizing that his house is haunted as the monk had earlier warned. The monk recounts the history of the house (which the viewer is already familiar with from the opening sequence) and then the film simply cuts away to something else. Earlier the monk had offered to help. Well, where is the help? The family continues to stay in the haunted house as things get worse and worse and no mention of the monk is made until nearly the very end when he turns up again to do what he should have done an hour earlier--try to drive the spirits out of the house, although by this time it's difficult for the viewers to care.<br /><br />There are some (probably) unintentional campy laughs in seeing the American actors at the end become possessed by the Japanese spirits and suddenly start doing bad martial arts, I say probably because the scene is more than a little reminiscent of the chainsaw duel from the same director's Motel Hell which was more obviously meant to be amusing, but on the whole this is a forgettable dud.\"\n",
            "Label 0\n",
            "Review b\"Stan Laurel and Oliver Hardy had extensive (separate) film careers before they were eventually teamed. For many of Ollie's pre-Stan films, he was billed on screen as Babe Hardy ... and throughout his adult life, Hardy was known to his friends as 'Babe'. While touring postwar Britain with Laurel in a music-hall act for Bernard Delfont, Hardy gave an interview to journalist John McCabe in which he explained the origin of this nickname: early in his acting career, Hardy got a shave from a gay hairdresser who squeezed Hardy's plump cheeks (the ones on his face) and said 'Nice baby!' Hardy's workmates started crying him 'Babe', and the nickname stuck.<br /><br />Although much of Hardy's pre-Laurel work is very interesting -- notably his comedy roles in support of Larry Semon and the Chaplin imitator Billy West -- his teamwork with Billy Ruge (who?) in a series of low-budget shorts for the Vim Comedy Film Company is very dire indeed. Hardy and Ruge were given the screen names Plump and Runt: names which are unpleasant in their own right, but made worse because Ruge (although shorter than Hardy) isn't especially a runt. Seen here, Hardy looks much as he does in his early Hal Roach films with Laurel ... but without the spit curls and the fastidious little moustache.<br /><br />'One Too Many', an absolutely typical Plunt and Runt epic, is direly unfunny ... and its dreichness is made even more conspicuous by the fact that this film has exactly the same premise as 'That's My Wife', one of Laurel and Hardy's most hilarious films. Plump (Hardy) is the star boarder in a rooming-house run by a tall gawky landlady. Runt (Ruge) is the porter. Plump receives a letter from his wealthy uncle John, whose dosh he expects to inherit. His uncle is coming to see him and to meet Plump's wife and baby. There's only one problem: Plump hasn't got a wife and baby. He's been lying to his uncle in order to seem a family man. Now, of course, Plump expects Runt to find him a wife and baby on short notice. Of course, the results are disastrous. It would be nice if those disastrous results were funny, but they aren't. Most of the unfunny humour here is just empty slapstick, with characters settling their arguments by shoving each other into bathtubs.<br /><br />SPOILERS COMING. Vim director Will Louis (who?) shows no instinct for camera framing: the actress who plays the landlady is significantly taller than Hardy, and Louis consistently sets up his shots so that her head is out of frame. This could be funny if done on purpose, but it's merely inept. At one point in this bad comedy, an extremely tasteless gag is looming on the horizon as Runt approaches a black laundress. 'Surely they wouldn't stoop THAT low for a laugh,' I thought. But they do. Runt steals the woman's black infant and tries to fob this off as Plump's progeny.<br /><br />Somehow, Plump acquires an infant's cot, but he still hasn't got a baby. With Uncle John coming up the stairs, Plump conscripts Runt for babyhood. This gag might just possibly have worked with a midget, or even with a truly runt-sized actor such as Chester Conklin, but Billy Ruge is only slightly below average height. Ruge's impersonation of a baby is neither believable nor funny, and Uncle John would have to be a complete moron to fall for it. Amazingly, he does!<br /><br />The most notable aspect of 'One Too Many' is a brief appearance -- apparently her only-ever film appearance -- by Madelyn Saloshin, Oliver Hardy's first wife. The marriage was not a happy one, although Hardy's marital troubles never attained the epic proportions of Stan Laurel's. <br /><br />Only one thing in this movie impressed me. There is a very brief flashback sequence, with Hardy reminiscing about his seaside romance with a bathing beauty. In 1916, there was still not yet a standard film grammar for conveying flashbacks: the one shown here is done gracefully and simply. Too bad this movie has no other merits. 'One Too Many' is definitely one film too many on Oliver Hardy's CV, and I'll rate this movie just one point out of 10. Laurel and Hardy together are definitely much funnier than either of them separately.\"\n",
            "Label 0\n",
            "Review b'Yes, I\\'m sentimental & schmaltzy!! But this movie (and it\\'s theme song) remain one of my all time greats!! Robert Downey Jr. does such justice to the role of \"Louis Jeffries\" reincarnated and the storyline (although far-fetched) is romantic & makes one believe in happy endings!!'\n",
            "Label 1\n",
            "Review b'This is one of Joan Crawford\\'s best Talkies. It was the first Gable-Crawford pairing, and made it evident to MGM and to audiences that they were a sizzling team, leading the studio to make seven more films with them as co-stars.<br /><br />The film convincingly depicts the downward slide of a brother and sister who, after their father loses everything in the stock market crash, must fend for themselves and work for a living. Life is hard in the Depression, and soon even their attempts at finding legitimate work prove futile, and they resort to underworld activity. <br /><br />Joan Crawford is excellent as the socialite-turned-moll. She\\'s smart, complex, and believable. She even tempers the theatrical stiffness of the other actors\\' early Talkie acting style. Clark Gable is a diamond-in-the rough, masculine and gruff as the no-nonsense gangster who becomes involved with Crawford\\'s character. The same year he would play a similar and even more successful role opposite Norma Shearer in \"A Free Soul\", securing his position as top male sex symbol at MGM.<br /><br />If you like Crawford in this type of role, don\\'t miss \"Paid\", which she did a year earlier, which is also among her best early Talkie performances.<br /><br />'\n",
            "Label 1\n",
            "Review b\"An OUR GANG Comedy Short.<br /><br />The Gang coerces Spanky into watching their younger siblings. Caring for these FORGOTTEN BABIES turns out to be quite a chore, leaving the little nipper with no choice but to come up with some ingenious solutions to the baby-sitting problem...<br /><br />Spanky is in his glory in this hilarious little film, arguably his best. Highlight: Spanky's retelling the plot of the TARZAN movie he's recently seen to the audience of infants. Movie mavens will recognize Billy Gilbert's voice in the radio drama.\"\n",
            "Label 1\n",
            "Review b'I know, I know: it\\'s childish. But I just love this type of movie. A bird that suffered a lot of \"mishaps\" and still hasn\\'t lost his faith in humanity and his sense of humor. What\\'s special about this film is the fact that the main character is Paulie -the parrot- and he\\'s not used as a boost to some hotshot human actor. Furthermore I like the storyline: Paulie tells his lifestory to a cleaner at the point he hit rock bottom. (By the way: Jay Mohr\\'s voice almost sounds like Joe Pesci\\'s!). And Cheech Marin of course, the man IS humor to me. Ever since I saw \"Up in Smoke\" I have appreciated his naive way of performing, making a simple situation a hilarious one.. can\\'t help myself.'\n",
            "Label 1\n",
            "Review b'There\\'s a lot of good that can be said for this cartoon; the backgrounds are rich, lushly colored and full of nicely done art deco details. The animation is up to the usual studio standards of the time, which are unquestionably higher than those of the present day. However, I find it tedious for a number of reasons.<br /><br />The Music: It\\'s definitely not up to Scott Bradley\\'s usual standards. Although it\\'s probably supposed to be evocative of a \"Great Gatsby\" setting, it ends up being dreary, sleepy, repetitious AND monotonous (repetitious and monotonous are not the same, as Beethoven\\'s 5th Symphony attests). Since most people (including me) tend to close their eyes when they yawn, there\\'s a lot of the visual part of the cartoon that will be missed by the average viewer.<br /><br />The Storyline: I\\'m not giving away any secrets that aren\\'t already in the plot summary - country good, city bad. This is a common theme in films, both animated and live, from this era. It\\'s a misplaced nostalgia for a nonexistent rural idyll, which, in the present day, is reflected in a similar nostalgia for \"values\" that never were.'\n",
            "Label 0\n",
            "Review b\"I came here for a review last night before deciding which TV movie to settle in front of, and those I found made this one look unmissable. How misled I feel!<br /><br />Firstly, it needs to be pointed out up front that this is very much a housewife's daytime movie. The performances are wooden, every sentence is an attempt at 'poignant' in the way that housewife's daytime movies and bad soap operas always are, and it is based in that predictable and well-trodden premise that men (particularly soldiers) are essentially violent and incompassionate. The whole movie is about the 'drama' apparent in the moments when the male characters threaten to develop a second dimension.<br /><br />If that sounds tolerable (or even enjoyable) to you, then be warned. Linda Hamilton's German accent, while quite good, is painfully distracting - as is her face, for some reason. The other performances are no doubt an enduring source of embarrassment to their perpetrators, with painfully thin and obvious characterizations being the order of the day. There are few surprises, but do watch for the 'Monty Pythonesque' endless supply of food and drink that miraculously appears from the hungry soldiers' knapsacks!<br /><br />I wasn't expecting action, but I had hoped for beautiful or textural or emotionally charged. What I got was a particularly bad Christmas 'feelgood' story that will have an intelligent audience cringing with the crapulence of it all.<br /><br />Watch it under the folowing circumstances: 1: There's nothing else on. 2: You are a fan of predictable 'housewife takes on men and wins' TV movies. 3: The only way you can appreciate a true story is when Hollywood turns it into a feature film. 4: You've imbibed enough nog that your emotions are easily stirred by unsophisticated storytelling.\"\n",
            "Label 0\n",
            "Review b\"I went in expecting the movie to be completely dumb. With such a low expectation, any form of entertainment would be a pleasant surprise. The soundtrack was the best part of the movie, but poking fun at the nonsense that goes on in singles wards was also amusing.<br /><br />This said, there were many things about The Singles Ward that were completely annoying. The entire film was poorly dubbed and made watching mouths while listening to their voices very irritating. This lack of professionalism was surpassed only by the cameos of Mormon celebrities who have no business acting.<br /><br />This film will do well among Mormondom, especially in college communities where singles ward exist. However the conclusion will offer no hope for the poor losers who find themselves unmarried. (Only the pretty girls in the Singles Ward get married, the fat, ugly ones don't, but all the ugly men do) Ultimately we realize that the whole film was an advertisement for LDSSingles.com\"\n",
            "Label 0\n",
            "Review b'This movie was on the Romance channel, and I thought it might be a goofy 80\\'s movie that would be enjoyable on some level, so my brother and I watched it. Boy did it suck. Boy gets crush on girl--correction, his *dream*-girl (apparently there is a difference; and I\\'m surprised he realized she was his dream girl--he was smitten with her from over 30 feet away. I guess that just goes to show the power of dream-girls), boy ends up masquerading as a female to be near dream-girl (creative in the sense that it\\'s a far-out plan, but un-creative in the sense that there are probably better solutions one might think up), awkward situations ensue, a match is made (all of which takes seems to take place around late afternoon--either the location was somehow responsible for this odd lighting, or the actors had to wait until they got off of their day-jobs to come to the set; I suspect the latter). Very clumsily done, very pathetic. It\\'s almost never even amusing *accidentally*, so there really is nothing to redeem it. Unless you\\'re interested in seeing Chad Lowe\\'s early days, before he finally got his piece of the pie with his role as the HIV-positive gay guy on the series \"Life Goes On\", or Gail O\\'Grady who was on NYPD Blue and probably got to stare at Dennis Franz\\'s buttocks). But those are unlikely motives--I\\'d say \"systematic derangement of the senses\" would be a more justified purpose. I\\'m surprised I watched it all. I guess it\\'s the kind of thing where, halfway through, you find yourself *still* watching due to some morbid, self-flagellistic inner-issue, and think you might as well finish it so you can tell your friends and family that you actually sat through such a horrible movie, on the off-chance that it\\'ll garner you some sympathy for the questionable state of your mental health. Can *You* Take the Challenge?'\n",
            "Label 0\n",
            "Review b'I had numerous problems with this film.<br /><br />It contains some basic factual information concerning quantum mechanics, which is fine. Although quantum physics has been around for over 50 years, the film presents this information in a grandiose way that seems to be saying: \"Aren\\'t you just blown away by this!\" Well, not really. These aren\\'t earth shattering revelations anymore. At any rate, I was already familiar with quantum theory, and the fact that particles have to be described by wave equations, etc. is not new.<br /><br />The main problem I have with this movie, however, is the way these people use quantum theory as a way of providing a scientific basis for mysticism and spiritualism. I don\\'t have any serious problem with mysticism and spiritualism, but quantum mechanics doesn\\'t really have anything to do with these things, and it should be kept separate. The people they interviewed for this movie start with the ideas of quantum theory and then make the leap to say that simply by thinking about something you can alter the matter around you, hence we should think positively so as to have a positive impact on the world and make our lives better. The reasoning is completely ridiculous, and the conclusions do not logically follow from quantum theory. For every so called \"expert\" that they interviewed for this film, there are scores of theoretically physicists who would completely disagree. They would point out, quite rightly, that the unpredictability of the subatomic world does not lend support to mystical notions about our spiritual connectedness.<br /><br />It disturbs me that people are going to see this film and completely eat it up because it leaves them with a nice positive feeling. The main thrust of the film is based on a total misinterpretation of quantum theory, and it is as bad in its reasoning as any attempt to justify organized religion with similar pseudo-scientific arguments.<br /><br />Avoid this film.<br /><br />Oh yeah. At one point, one of the \"experts\" says that since throughout history most of the assumptions people have made about the world turned out to be false, therefore the assumptions we currently hold about the world are also likely to be false. Huh? That totally does not follow. And even if it did, I don\\'t see how that helps his argument. I mean, if his ideas ever became common assumptions then I guess we would have to assume that they are false too, based on his own reasoning.'\n",
            "Label 0\n",
            "Review b\"This movie makes Canadians and Brits out to be asinine, moronic idiots. The men get stoned/drunk, and then they yell/beat each other up in almost every scene. The women are superfluous to the story \\xc2\\x96 I do not understand what they are there for \\xc2\\x96 they spend every scene causing a ruckus, or worse, milling around like mesmerized cattle. Apparently, Canadian women are either quarrelsome vulgar tramps or hulking hippie chicks. It's the standard knocked-up girlfriend, her loser boyfriend and his wicked mother ludicrousness that we have seen in countless movies before.<br /><br />Every character here is a carping, infantile stereotype. Not to mention that they all looked like they need a shower! And the idea of any kind of scene implying sex with George Wendt \\xc2\\x96 shudder \\xc2\\x96 is enough to make anyone gag! I watched the movie because Samuel West was in it \\xc2\\x96 but I cannot understand why he would have accepted a role like this. Maybe he needed the money. Ian Tracey is a superb actor - the only one with a vague redeeming moment, but his talent is wasted here.<br /><br />As for the rest of the plot \\xc2\\x96 the three imbeciles trying to get their dope back \\xc2\\x96 yawn - or Karl \\xc2\\x96 who is dead, but who is actually a character very much alive in the minds of those left behind (almost like Rebecca in Alfred Hitchcock's masterpiece \\xc2\\x96 although I am ashamed to even have thought to compare these two films), why even bother? Karl is so galling that you find the circumstances of his death gratifying.<br /><br />By the end of this wretched movie, I thought they would all have been better off going down with him on that boat!\"\n",
            "Label 0\n",
            "Review b'Sistas in da hood. Looking for revenge and bling bling. Except da hood is a wild west town in the late 1800s. I do not remember any westerns like this when I was growing up. What would Randolph Scott say? If he saw Lil\\' Kim, he might say, \"Alright! I have to admit that I tuned into this just to see her. Bare midriffs and low cut blouses are not the staple of the usual cowboy flick, but these are the cowgirls, and they are fine.<br /><br />Now, don\\'t go looking for any major story here, and the usual stuff of ghetto crime drama are here in a different setting. And, when\\'s the last time you heard John Wayne call someone, \"Dawg\"? And, I don\\'t remember the Earp brothers hugging and kissing before they marched to the OK Corral.<br /><br />I watch this on BET, so I missed the action that got it an R rating, but I doubt if I will buy the DVD to see it unless I can be assured it was Lil\\' Kim in that action.'\n",
            "Label 0\n",
            "Review b\"Okay, let's face it. this is a god-awful movie. The plot (such as it is) is horrible, the acting worse. But the movie was made for one reason and one reason only, like all of those awful Mario Lanza movies...just to hear the voice of the star, in this case Pavarotti in his prime. Okay, so maybe the Lanza movies were also an excuse for him to hit on women, but this movie is about hearing Luciano. That alone is worth watching the movie. A big opera star stuck on himself faces his fears, finds humility and love along the way, and belts out a lot of hit numbers, too.<br /><br />I must admit I'm prejudiced on a number of levels. I'm Italian. I'm a big Pavarotti fan (is there anything about Pavarotti that isn't big, including his fan base?). And when I first saw this movie I was going out on my own, seeing the height and depth of Life's possibilities and in love for the first time. So as awful as this movie is, the beautiful voice and memories are enough to make me breathe deep of life and love again.<br /><br />Yes, it's corny and awful. But the voice is immortal and timeless, and the voice is what it's all about. So I give this movie a high rating in hopes that someone who has never heard Pavarotti before will listen and watch and enjoy a new level of music and love, especially since he is now gone. Like Italian food that you've never tried before, try it! You may be pleasantly surprised, as a Luciano lover or prospective Pavarotti peep.\"\n",
            "Label 1\n",
            "Review b'The Dukes of Hazzard will academy awards!! Best actor and actress 4 the persons who can say with a straight face that this was a great movie.<br /><br />This \"movie\" was a torture to watch. So sad how an weekly half hour entertainment was destroyed by these amateurs.The only good thing about this crap was the car! I remember when Daisy was a real threat to look 4ward 2. Who\\'s the moron that decided that Jessica Simpson is hot?! We know she can\\'t act but come on. In the TV show Daisy was a fox and brunette.<br /><br />All members who contributed in these waste of time please please please don\\'t even think about makin a sequel, a prequel or anything that\\'s got 2 do with a former TV show.<br /><br />I gave a empty DVD so this \"movie\" could be burned 4 me. I sat trough it and i want my money back!'\n",
            "Label 0\n",
            "Review b'I thought this movie was terrible. I\\'m Chinese, so I thought everything was totally wrong. Many of the facts were incorrect. The only thing right about Chinese history in the movie was when Wendy\\'s mother explained to her husband about the statues that guarded ShiHuangDi. I also thought the fight scenes were very cheesy and fake. Many of the actors and actresses were not very great. Some of the jokes that were supposedly \"funny\" were really stupid. I think this movie should receive the worst possible rating it could get. Disney has really got to get more information about Chinese history if they want to create an extravagant movie. Mulan was quite accurate. Watch this movie if you want to waste some time.'\n",
            "Label 0\n"
          ],
          "name": "stdout"
        }
      ]
    },
    {
      "cell_type": "code",
      "metadata": {
        "colab": {
          "base_uri": "https://localhost:8080/"
        },
        "id": "Zg3UEfqxnY-q",
        "outputId": "e99cef12-1a59-471d-92e9-7d91793c48c4"
      },
      "source": [
        "# print corresponding string names of integer classes \n",
        "print(\"Label 0 corresponds to\", raw_train_ds.class_names[0])\n",
        "print(\"Label 1 corresponds to\", raw_train_ds.class_names[1])"
      ],
      "execution_count": 21,
      "outputs": [
        {
          "output_type": "stream",
          "text": [
            "Label 0 corresponds to neg\n",
            "Label 1 corresponds to pos\n"
          ],
          "name": "stdout"
        }
      ]
    },
    {
      "cell_type": "code",
      "metadata": {
        "colab": {
          "base_uri": "https://localhost:8080/"
        },
        "id": "e6DgRQivotYy",
        "outputId": "8ba283ab-4343-44eb-b653-c189a6b6925f"
      },
      "source": [
        "# copy remaining 20% of training examples to \"raw_val_ds\" (validation split)\n",
        "# same seed ensures no duplicates in both splits \n",
        "raw_val_ds = tf.keras.preprocessing.text_dataset_from_directory(\n",
        "    'aclImdb/train', \n",
        "    batch_size=batch_size, \n",
        "    validation_split=0.2, \n",
        "    subset='validation', \n",
        "    seed=seed)\n",
        "print(len(raw_val_ds))"
      ],
      "execution_count": 23,
      "outputs": [
        {
          "output_type": "stream",
          "text": [
            "Found 25000 files belonging to 2 classes.\n",
            "Using 5000 files for validation.\n",
            "157\n"
          ],
          "name": "stdout"
        }
      ]
    },
    {
      "cell_type": "code",
      "metadata": {
        "colab": {
          "base_uri": "https://localhost:8080/"
        },
        "id": "YK1-ZMoOpGJa",
        "outputId": "ac623933-0cbb-4f5d-9e88-366bd8dd2c73"
      },
      "source": [
        "# copy all the test examples to \"raw_test_ds\" (test split)\n",
        "raw_test_ds = tf.keras.preprocessing.text_dataset_from_directory(\n",
        "    'aclImdb/test', \n",
        "    batch_size=batch_size)"
      ],
      "execution_count": 25,
      "outputs": [
        {
          "output_type": "stream",
          "text": [
            "Found 25000 files belonging to 2 classes.\n"
          ],
          "name": "stdout"
        }
      ]
    },
    {
      "cell_type": "code",
      "metadata": {
        "id": "1kK-Hgsxp5j3"
      },
      "source": [
        "# define function for preprocessing text\n",
        "def custom_standardization(input_data):\n",
        "  lowercase = tf.strings.lower(input_data)\n",
        "  # regex_replace(input, pattern, replace)\n",
        "  stripped_html = tf.strings.regex_replace(lowercase, '<br />', ' ')\n",
        "  # replace punctuations with empty string (ie. removing punctuations)\n",
        "  return tf.strings.regex_replace(stripped_html,\n",
        "                                  '[%s]' % re.escape(string.punctuation),\n",
        "                                  '')"
      ],
      "execution_count": 27,
      "outputs": []
    },
    {
      "cell_type": "code",
      "metadata": {
        "id": "kW-vwYG7qlav"
      },
      "source": [
        "# define layer that will perform Vectorization\n",
        "max_features = 10000 # max number of words\n",
        "sequence_length = 250 # length set for each review\n",
        "\n",
        "vectorize_layer = TextVectorization(\n",
        "    standardize=custom_standardization,\n",
        "    max_tokens=max_features,\n",
        "    output_mode='int',\n",
        "    output_sequence_length=sequence_length)"
      ],
      "execution_count": 32,
      "outputs": []
    },
    {
      "cell_type": "code",
      "metadata": {
        "id": "EzUXjI12rVGN"
      },
      "source": [
        "# Make a text-only dataset (without labels), then call adapt (i.e. fit)\n",
        "train_text = raw_train_ds.map(lambda x, y: x)\n",
        "vectorize_layer.adapt(train_text)"
      ],
      "execution_count": 41,
      "outputs": []
    },
    {
      "cell_type": "code",
      "metadata": {
        "id": "OoQByTlzraKa"
      },
      "source": [
        "def vectorize_text(text, label):\n",
        "  # Add an innermost dimension for batch\n",
        "  text = tf.expand_dims(text, -1)\n",
        "  return vectorize_layer(text), label"
      ],
      "execution_count": 42,
      "outputs": []
    },
    {
      "cell_type": "code",
      "metadata": {
        "colab": {
          "base_uri": "https://localhost:8080/"
        },
        "id": "LU6lWelWrglI",
        "outputId": "de79ae5d-8aa7-43ff-d6aa-562fe4206206"
      },
      "source": [
        "# retrieve a batch (of 32 reviews and labels) from the dataset\n",
        "# iter() makes it iterable, next() selects batch 0\n",
        "text_batch, label_batch = next(iter(raw_train_ds))  \n",
        "# select first review out of 32 reviews in batch 0\n",
        "first_review, first_label = text_batch[0], label_batch[0]\n",
        "print(\"Review\", first_review)\n",
        "print(\"Label\", raw_train_ds.class_names[first_label])\n",
        "print(\"Vectorized review\", vectorize_text(first_review, first_label))"
      ],
      "execution_count": 43,
      "outputs": [
        {
          "output_type": "stream",
          "text": [
            "Review tf.Tensor(b'\"Emma\" was a product of what might be called by the First Great Jane Austen Cycle of the mid-nineties, and it was recently shown on British television, doubtless because of the interest in the author created by the Second Great Jane Austen Cycle which started with \"Pride and Prejudice\" two years ago. We currently have in the cinemas the Austen biopic \"Becoming Jane\", and ITV have recently produced three TV movies based on Austen novels. These include \"Northanger Abbey\", the only one of the six major novels not to have been filmed previously, so the cycle should now be complete. No doubt, however, there will be more to come in the near future. (There is, after all, her juvenile \"Love and Freindship\" (sic), the short novella \"Lady Susan\", and someone, somewhere, has doubtless supplied endings to her two unfinished fragments \"The Watsons\" and \"Sanditon\". Then there are all those Austen sequels churned out by modern writers\\xc2\\x85\\xc2\\x85\\xc2\\x85).<br /><br />The main character is Emma Woodhouse, a young lady from an aristocratic family in Regency England. (Not, as some reviewers have assumed, Victorian England- Austen died before Queen Victoria was even born). Emma is, financially, considerably better off than most Austen heroines such as Elizabeth Bennett or Fanny Price, and has no need to find herself a wealthy husband. Instead, her main preoccupation seems to be finding husbands for her friends. She persuades her friend Harriet to turn down a proposal of marriage from a young farmer, Robert Martin, believing that Harriet should be setting her sights on the ambitious clergyman Mr Elton. This scheme goes disastrously wrong, however, as Elton has no interest in Harriet, but has fallen in love with Emma herself. The speed with which Emma rejects his proposal makes one wonder just why she was so keen to match her friend with a man she regards (with good reason) as an unsuitable marriage partner for herself. This being a Jane Austen plot, Emma turns out to be less of a committed spinster than she seems, and she too finds herself falling in love, leading to further complications.<br /><br />Emma always insists that she will not marry without affection, and when she does find a partner, the handsome Mr Knightley, we feel that this will indeed be an affectionate marriage. It does not, however, seem likely to be a very passionate one (unlike, say, that of Elizabeth Bennett and Mr Darcy). Knightley, who is sixteen years older than Emma (she is 21, he 37), and related to her by marriage, is more like a father-figure than a lover. Much more of a father-figure, in fact, than her actual father, a querulous and selfish old hypochondriac who seems more like her grandfather. When Emma is rude to her unbearably garrulous and tedious friend Miss Bates, it is Knightley who chides her for her lack of manners. (His surname is probably meant to indicate his gentlemanly nature- nineteenth-century gentlemen liked to think of themselves as the modern equivalent of mediaeval knights with their elaborate codes of chivalry). Both Gwyneth Paltrow and Jeremy Northam play their parts very well, but this is not really one of the great screen romances.<br /><br />Of the other characters, I liked Juliet Stephenson\\'s vulgar Mrs Elton and Toni Collette\\'s Harriet. I know that in the novel Harriet was a na\\xc3\\xafve young teenager, whereas here she is more like the character Collette played in \"Muriel\\'s Wedding\"- a gauche, slightly overweight twentysomething, fretting about her chances of finding a man. Nevertheless, I felt that this characterisation worked well in the context of the film and did not detract from Austen\\'s themes.<br /><br />\"Emma\" is one of Austen\\'s more light-hearted works, without the darker overtones of \"Mansfield Park\" or even \"Pride and Prejudice\", and this is reflected on screen. We see a world of beauty and grace, full of stately homes and elegant costumes and fine manners. Apart from the ruffianly gypsies, who make a very brief appearance, the only \"poor\" people we see are Mrs Bates and her daughter, and, as they live in the sort of picturesque rose-strewn thatched cottage which today would change hands for over \\xc2\\xa3500,000, we can be sure that their poverty is relative, not absolute. In Emma\\'s world, poverty is defined as not having your own stately home. This is, of course, not a comprehensive picture of early nineteenth-century life, but nobody has ever claimed Austen as the Regency equivalent of a kitchen-sink realist. Sophisticated romantic comedy, combined with a keen eye for analysing human character, was more in her line.<br /><br />I would not rate this film quite as highly as the 1994 \"Sense and Sensibility\" or the recent \"Pride and Prejudice\"- it tends to drag a bit in the middle, although it has a strong beginning and strong ending- but it is, in the main, a highly enjoyable Austen adaptation. 7/10', shape=(), dtype=string)\n",
            "Label pos\n",
            "Vectorized review (<tf.Tensor: shape=(1, 250), dtype=int64, numpy=\n",
            "array([[2528,   13,    4, 2218,    5,   48,  227,   26,  488,   32,    2,\n",
            "          83,   86, 1007, 6768, 6996,    5,    2,    1,    3,    9,   13,\n",
            "         986,  581,   20,  681,  708,    1,   84,    5,    2,  598,    8,\n",
            "           2, 2174, 1033,   32,    2,  333,   86, 1007, 6768, 6996,   60,\n",
            "         606,   16, 3114,    3, 5437,  104,  149,  589,   71, 3780,   25,\n",
            "           8,    2, 4959,    2, 6768, 6887, 1587, 1007,    3,    1,   25,\n",
            "         986, 1118,  297,  243,   91,  443,   20, 6768, 2630,  129, 1429,\n",
            "           1,    1,    2,   61,   28,    5,    2, 1539,  653, 2630,   21,\n",
            "           6,   25,   74,  814, 2353,   37,    2, 6996,  139,  148,   26,\n",
            "         555,   57,  803,  189,   47,   76,   26,   50,    6,  203,    8,\n",
            "           2,  781,  701,   47,    7,  101,   30,   39, 3697,  115,    3,\n",
            "           1,    1,    2,  350,    1,  729, 2744,    3,  282, 1116,   43,\n",
            "           1,    1, 4055,    6,   39,  104,    1,    1,    2,    1,    3,\n",
            "           1,   92,   47,   23,   30,  143, 6768, 2141,    1,   44,   32,\n",
            "         709,    1,    2,  275,  106,    7, 2528,    1,    4,  181,  729,\n",
            "          35,   33,    1,  215,    8,    1, 1777,   21,   14,   46, 1870,\n",
            "          25, 5293, 7152, 1777, 6768, 1071,  153, 1573, 2375,   13,   53,\n",
            "        1461, 2528,    7,    1, 5765,  122,  127,   70,   88, 6768, 8660,\n",
            "         135,   14, 2722, 7422,   41,    1, 1841,    3,   43,   57,  349,\n",
            "           6,  163,  733,    4, 3109,  672,  291,   39,  275,    1,  180,\n",
            "           6,   26, 1578, 2978,   15,   39,  335,   55,    1,   39,  469,\n",
            "        5926,    6,  459,  185,    4,    1,    5, 1357,   35,    4,  181,\n",
            "        6023,  639, 1558, 3206,   12, 5926,  139,   26]])>, <tf.Tensor: shape=(), dtype=int32, numpy=1>)\n"
          ],
          "name": "stdout"
        }
      ]
    },
    {
      "cell_type": "code",
      "metadata": {
        "colab": {
          "base_uri": "https://localhost:8080/"
        },
        "id": "Vzj9M8a1vhn1",
        "outputId": "c0c75a0e-af8e-459c-c572-5b6a7832d58e"
      },
      "source": [
        "# Print tokens corresponding to indices\n",
        "print(\"1287 ---> \",vectorize_layer.get_vocabulary()[1287])\n",
        "print(\" 313 ---> \",vectorize_layer.get_vocabulary()[313])\n",
        "print('Vocabulary size: {}'.format(len(vectorize_layer.get_vocabulary())))"
      ],
      "execution_count": 44,
      "outputs": [
        {
          "output_type": "stream",
          "text": [
            "1287 --->  silent\n",
            " 313 --->  night\n",
            "Vocabulary size: 10000\n"
          ],
          "name": "stdout"
        }
      ]
    },
    {
      "cell_type": "code",
      "metadata": {
        "id": "lO6Q-oLJv1KG"
      },
      "source": [
        "# apply function \"vectorize_text\" on all three splits\n",
        "train_ds = raw_train_ds.map(vectorize_text)\n",
        "val_ds = raw_val_ds.map(vectorize_text)\n",
        "test_ds = raw_test_ds.map(vectorize_text)"
      ],
      "execution_count": 46,
      "outputs": []
    },
    {
      "cell_type": "code",
      "metadata": {
        "id": "chyWC0scwE6I"
      },
      "source": [
        "# optimize code by prefetching data in buffer\n",
        "AUTOTUNE = tf.data.AUTOTUNE\n",
        "\n",
        "train_ds = train_ds.cache().prefetch(buffer_size=AUTOTUNE)\n",
        "val_ds = val_ds.cache().prefetch(buffer_size=AUTOTUNE)\n",
        "test_ds = test_ds.cache().prefetch(buffer_size=AUTOTUNE)"
      ],
      "execution_count": 50,
      "outputs": []
    },
    {
      "cell_type": "code",
      "metadata": {
        "id": "2xKeI7AGwKsp"
      },
      "source": [
        "# defining the model architecture\n",
        "embedding_dim = 16"
      ],
      "execution_count": 55,
      "outputs": []
    },
    {
      "cell_type": "code",
      "metadata": {
        "colab": {
          "base_uri": "https://localhost:8080/"
        },
        "id": "xohOZlkRwMWQ",
        "outputId": "fd16fd01-2eb3-45fd-d51e-cc095a1c62a4"
      },
      "source": [
        "model = tf.keras.Sequential([\n",
        "  layers.Embedding(max_features + 1, embedding_dim),\n",
        "  layers.Dropout(0.2),\n",
        "  layers.GlobalAveragePooling1D(),\n",
        "  layers.Dropout(0.2),\n",
        "  layers.Dense(1)])\n",
        "\n",
        "model.summary()"
      ],
      "execution_count": 52,
      "outputs": [
        {
          "output_type": "stream",
          "text": [
            "Model: \"sequential_1\"\n",
            "_________________________________________________________________\n",
            "Layer (type)                 Output Shape              Param #   \n",
            "=================================================================\n",
            "embedding_1 (Embedding)      (None, None, 16)          160016    \n",
            "_________________________________________________________________\n",
            "dropout_2 (Dropout)          (None, None, 16)          0         \n",
            "_________________________________________________________________\n",
            "global_average_pooling1d_1 ( (None, 16)                0         \n",
            "_________________________________________________________________\n",
            "dropout_3 (Dropout)          (None, 16)                0         \n",
            "_________________________________________________________________\n",
            "dense_1 (Dense)              (None, 1)                 17        \n",
            "=================================================================\n",
            "Total params: 160,033\n",
            "Trainable params: 160,033\n",
            "Non-trainable params: 0\n",
            "_________________________________________________________________\n"
          ],
          "name": "stdout"
        }
      ]
    },
    {
      "cell_type": "code",
      "metadata": {
        "id": "71o2pu_5wOWW"
      },
      "source": [
        "model.compile(loss=losses.BinaryCrossentropy(from_logits=True),\n",
        "              optimizer='adam',\n",
        "              metrics=tf.metrics.BinaryAccuracy(threshold=0.0))"
      ],
      "execution_count": 53,
      "outputs": []
    },
    {
      "cell_type": "code",
      "metadata": {
        "colab": {
          "base_uri": "https://localhost:8080/"
        },
        "id": "HV836cgpwVzb",
        "outputId": "def44485-6cbb-4fb3-9296-71ccbd32a190"
      },
      "source": [
        "epochs = 10\n",
        "history = model.fit(\n",
        "    train_ds,\n",
        "    validation_data=val_ds,\n",
        "    epochs=epochs)"
      ],
      "execution_count": 54,
      "outputs": [
        {
          "output_type": "stream",
          "text": [
            "Epoch 1/10\n",
            "625/625 [==============================] - 13s 15ms/step - loss: 0.6654 - binary_accuracy: 0.6885 - val_loss: 0.6157 - val_binary_accuracy: 0.7708\n",
            "Epoch 2/10\n",
            "625/625 [==============================] - 4s 6ms/step - loss: 0.5490 - binary_accuracy: 0.7966 - val_loss: 0.4982 - val_binary_accuracy: 0.8220\n",
            "Epoch 3/10\n",
            "625/625 [==============================] - 4s 6ms/step - loss: 0.4452 - binary_accuracy: 0.8431 - val_loss: 0.4201 - val_binary_accuracy: 0.8474\n",
            "Epoch 4/10\n",
            "625/625 [==============================] - 4s 6ms/step - loss: 0.3787 - binary_accuracy: 0.8654 - val_loss: 0.3737 - val_binary_accuracy: 0.8606\n",
            "Epoch 5/10\n",
            "625/625 [==============================] - 4s 6ms/step - loss: 0.3363 - binary_accuracy: 0.8771 - val_loss: 0.3449 - val_binary_accuracy: 0.8662\n",
            "Epoch 6/10\n",
            "625/625 [==============================] - 4s 6ms/step - loss: 0.3054 - binary_accuracy: 0.8881 - val_loss: 0.3258 - val_binary_accuracy: 0.8720\n",
            "Epoch 7/10\n",
            "625/625 [==============================] - 4s 6ms/step - loss: 0.2822 - binary_accuracy: 0.8965 - val_loss: 0.3126 - val_binary_accuracy: 0.8722\n",
            "Epoch 8/10\n",
            "625/625 [==============================] - 4s 6ms/step - loss: 0.2622 - binary_accuracy: 0.9042 - val_loss: 0.3033 - val_binary_accuracy: 0.8760\n",
            "Epoch 9/10\n",
            "625/625 [==============================] - 4s 6ms/step - loss: 0.2458 - binary_accuracy: 0.9117 - val_loss: 0.2965 - val_binary_accuracy: 0.8772\n",
            "Epoch 10/10\n",
            "625/625 [==============================] - 4s 6ms/step - loss: 0.2330 - binary_accuracy: 0.9158 - val_loss: 0.2918 - val_binary_accuracy: 0.8790\n"
          ],
          "name": "stdout"
        }
      ]
    },
    {
      "cell_type": "code",
      "metadata": {
        "colab": {
          "base_uri": "https://localhost:8080/"
        },
        "id": "8tYN1NTgwxow",
        "outputId": "32a610b8-251c-4248-be3f-9f008818202d"
      },
      "source": [
        "# evaluating the model\n",
        "loss, accuracy = model.evaluate(test_ds)\n",
        "\n",
        "print(\"Loss: \", loss)\n",
        "print(\"Accuracy: \", accuracy)"
      ],
      "execution_count": 56,
      "outputs": [
        {
          "output_type": "stream",
          "text": [
            "782/782 [==============================] - 7s 9ms/step - loss: 0.3104 - binary_accuracy: 0.8732\n",
            "Loss:  0.31037774682044983\n",
            "Accuracy:  0.8731600046157837\n"
          ],
          "name": "stdout"
        }
      ]
    },
    {
      "cell_type": "code",
      "metadata": {
        "colab": {
          "base_uri": "https://localhost:8080/"
        },
        "id": "RFx2bxOnw6P-",
        "outputId": "b663ba4c-8196-4549-9053-746a6fac44a1"
      },
      "source": [
        "# create a plot of accuracy and loss over time\n",
        "history_dict = history.history\n",
        "history_dict.keys()"
      ],
      "execution_count": 57,
      "outputs": [
        {
          "output_type": "execute_result",
          "data": {
            "text/plain": [
              "dict_keys(['loss', 'binary_accuracy', 'val_loss', 'val_binary_accuracy'])"
            ]
          },
          "metadata": {
            "tags": []
          },
          "execution_count": 57
        }
      ]
    },
    {
      "cell_type": "code",
      "metadata": {
        "colab": {
          "base_uri": "https://localhost:8080/",
          "height": 295
        },
        "id": "4WP-iyAQxAPh",
        "outputId": "78ff0746-2d69-4e43-8ba9-bcd67f378663"
      },
      "source": [
        "acc = history_dict['binary_accuracy']\n",
        "val_acc = history_dict['val_binary_accuracy']\n",
        "loss = history_dict['loss']\n",
        "val_loss = history_dict['val_loss']\n",
        "\n",
        "epochs = range(1, len(acc) + 1)\n",
        "\n",
        "# \"bo\" is for \"blue dot\"\n",
        "plt.plot(epochs, loss, 'bo', label='Training loss')\n",
        "# b is for \"solid blue line\"\n",
        "plt.plot(epochs, val_loss, 'b', label='Validation loss')\n",
        "plt.title('Training and validation loss')\n",
        "plt.xlabel('Epochs')\n",
        "plt.ylabel('Loss')\n",
        "plt.legend()\n",
        "\n",
        "plt.show()"
      ],
      "execution_count": 58,
      "outputs": [
        {
          "output_type": "display_data",
          "data": {
            "image/png": "[encoded data removed]",
            "text/plain": [
              "<Figure size 432x288 with 1 Axes>"
            ]
          },
          "metadata": {
            "tags": [],
            "needs_background": "light"
          }
        }
      ]
    },
    {
      "cell_type": "code",
      "metadata": {
        "colab": {
          "base_uri": "https://localhost:8080/",
          "height": 295
        },
        "id": "RkHGvmSvxBON",
        "outputId": "20c85139-dd38-462e-cb56-9fe287681cb4"
      },
      "source": [
        "plt.plot(epochs, acc, 'bo', label='Training acc')\n",
        "plt.plot(epochs, val_acc, 'b', label='Validation acc')\n",
        "plt.title('Training and validation accuracy')\n",
        "plt.xlabel('Epochs')\n",
        "plt.ylabel('Accuracy')\n",
        "plt.legend(loc='lower right')\n",
        "\n",
        "plt.show()"
      ],
      "execution_count": 59,
      "outputs": [
        {
          "output_type": "display_data",
          "data": {
            "image/png": "[encoded data removed]",
            "text/plain": [
              "<Figure size 432x288 with 1 Axes>"
            ]
          },
          "metadata": {
            "tags": [],
            "needs_background": "light"
          }
        }
      ]
    },
    {
      "cell_type": "code",
      "metadata": {
        "colab": {
          "base_uri": "https://localhost:8080/"
        },
        "id": "KUDOfPKqxC-X",
        "outputId": "f5c12694-1ef1-406d-ed1d-4ef5bd28a9a2"
      },
      "source": [
        "# export the model \n",
        "export_model = tf.keras.Sequential([\n",
        "  vectorize_layer,\n",
        "  model,\n",
        "  layers.Activation('sigmoid')\n",
        "])\n",
        "\n",
        "export_model.compile(\n",
        "    loss=losses.BinaryCrossentropy(from_logits=False), optimizer=\"adam\", metrics=['accuracy']\n",
        ")\n",
        "\n",
        "# Test it with `raw_test_ds`, which yields raw strings\n",
        "loss, accuracy = export_model.evaluate(raw_test_ds)\n",
        "print(accuracy)"
      ],
      "execution_count": 60,
      "outputs": [
        {
          "output_type": "stream",
          "text": [
            "782/782 [==============================] - 9s 11ms/step - loss: 0.3104 - accuracy: 0.8732\n",
            "0.8731600046157837\n"
          ],
          "name": "stdout"
        }
      ]
    },
    {
      "cell_type": "code",
      "metadata": {
        "colab": {
          "base_uri": "https://localhost:8080/"
        },
        "id": "SzXiqia6xQJm",
        "outputId": "3f979540-b479-4a8f-aef2-6489b3d20954"
      },
      "source": [
        "# inference on new data\n",
        "examples = [\n",
        "  \"The movie was great!\",\n",
        "  \"The movie was okay.\",\n",
        "  \"The movie was terrible...\"\n",
        "]\n",
        "\n",
        "export_model.predict(examples)"
      ],
      "execution_count": 61,
      "outputs": [
        {
          "output_type": "execute_result",
          "data": {
            "text/plain": [
              "array([[0.64154845],\n",
              "       [0.46701565],\n",
              "       [0.384455  ]], dtype=float32)"
            ]
          },
          "metadata": {
            "tags": []
          },
          "execution_count": 61
        }
      ]
    }
  ]
}